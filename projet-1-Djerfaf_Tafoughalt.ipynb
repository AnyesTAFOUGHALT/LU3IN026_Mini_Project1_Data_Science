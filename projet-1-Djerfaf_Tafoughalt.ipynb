{
 "cells": [
  {
   "cell_type": "markdown",
   "metadata": {},
   "source": [
    "IA & Data science (LU3IN0226) -- 2022-2023\n",
    "--------\n",
    "*&copy; Equipe pédagogique: Christophe Marsala, Olivier Schwander, Jean-Noël Vittaut.*"
   ]
  },
  {
   "cell_type": "markdown",
   "metadata": {},
   "source": [
    "<font size=\"+1\" color=\"RED\"><b>[Q]</b></font> <font size=\"+1\"><b>Indiquer dans la boîte ci-dessous vos noms et prénoms :</b></font>"
   ]
  },
  {
   "attachments": {},
   "cell_type": "markdown",
   "metadata": {},
   "source": [
    "DJERFAF Ilyes\\\n",
    "TAFOUGHALT Anyes"
   ]
  },
  {
   "cell_type": "markdown",
   "metadata": {},
   "source": [
    "Ce projet peut être fait en binôme (d'un même groupe). Le nom de chaque membre du binôme doit être indiqué, et un seul rendu sur un des deux comptes Moodle doit être fait.\n",
    "\n",
    "Les groupes de plus de 2 personnes ne sont pas autorisés."
   ]
  },
  {
   "cell_type": "markdown",
   "metadata": {},
   "source": [
    "<font color=\"RED\" size=\"+1\"><b>[Q]</b></font> **Renommer ce fichier ipython**\n",
    "\n",
    "Tout en haut de cette page, cliquer sur <tt>projet-1</tt> et rajouter à la suite de <tt>projet-1</tt> les noms des membres du binômes séparés par un tiret.\n",
    "\n",
    "<font color=\"RED\" size=\"+1\">IMPORTANT: soumission de votre fichier final</font>\n",
    "\n",
    "**Nom à donner au notebook** : *projet-1-Nom1_Nom2.ipynb* \n",
    "- *Nom1* et *Nom2* : noms des membres du binôme\n",
    "\n",
    "**Le compte-rendu doit être rendu sur la page Moodle.**"
   ]
  },
  {
   "cell_type": "markdown",
   "metadata": {},
   "source": [
    "# Projet 1 - février-mars 2023\n",
    "\n",
    "\n",
    "<font size=\"+1\" color=\"RED\"><b>Date de rendu : jeudi 22 mars, 18h au plus tard</b></font>\n",
    "<br />\n",
    "\n",
    "\n",
    "Vous devez compléter ce notebook en rajoutant vos expérimentations avec vos algorithmes d'apprentissage sur les 2 datasets fournis dans le répertoire data-projet:\n",
    "- les données data-2D.pkl : données en 2 dimensions, 2 labels\n",
    "- les données data-5D.pkl : données en 5 dimensions, 2 labels\n",
    "\n",
    "## Travail à faire\n",
    "\n",
    "Pour chaque ensemble de données:\n",
    "- les 3 algorithmes d'apprentissage knn, perceptron et perceptron biais doivent être expérimentés et comparés (ATTENTION: on ne veut que des algorithmes que vous avez implémentés vous-même dans cette UE).\n",
    "- des résultats d'expérimentations doivent fournir une comparaison des taux de bonne classification apprentissage / test avec validation croisée en 10.\n",
    "- des courbes (coût, poids, variation d'accuracy,...) doivent être fournies pour étudier les modèles construits.\n",
    "\n",
    "Vos **expérimentations doivent être expliquées**... (utilisez des boîtes Markdown pour saisir vos explications):\n",
    "- une argumentation du type *\"pourquoi vous avez fait cette expérimentation\"* doit être fournie;\n",
    "- une analyse succincte du résultat fourni doit être aussi donnée.\n",
    "\n",
    "\n",
    "\n",
    "Par exemple (indicatif): choix de $k$ pour le knn:\n",
    "- argumentation : pour décider quelle peut être la valeur de $k$ optimale, on décide de tester plusieurs valeurs différentes et de comparer les taux de bonne classification sur la base de test obtenus.\n",
    "- analyse du résultat: on remarque que la valeur $k$ suivante fournie le meilleur résultat.\n",
    "- étude du temps d'exécution.\n",
    "\n",
    "\n",
    "## Travail à rendre\n",
    "Ce qui doit être rendu : un fichier archive (`.tar`, `.tgz`, ou `.zip` uniquement) contenant uniquement ce notebook, dans lequel vous avez reporté toutes les fonctions que vous utilisez : ce notebook doit pouvoir être exécuté sans autre apport (pensez à vous en assurer avant de le rendre). Les fichiers de données ne doivent pas être inclus dans votre archive !\n",
    "\n"
   ]
  },
  {
   "cell_type": "markdown",
   "metadata": {},
   "source": [
    "## Lecture des pickles\n",
    "\n"
   ]
  },
  {
   "cell_type": "code",
   "execution_count": 1,
   "metadata": {},
   "outputs": [],
   "source": [
    "# Importation de librairies standards:\n",
    "import numpy as np\n",
    "import pandas as pd\n",
    "\n",
    "# Importation de la librairie pickle\n",
    "import pickle as pkl\n",
    "\n",
    "# lecture des donnéees en dimension 2 dans un dataframe pandas\n",
    "data2D = pkl.load(open('data-projet/data-2D.pkl', 'rb')) \n",
    "X2D = np.array(data2D[['x1', 'x2']], dtype=float) # conversion de type pour une meilleure compatibilité\n",
    "Y2D = np.array(data2D['label'], dtype=float)\n",
    "\n",
    "# pour les données en dimension 5, la méthode est la même, modifier seulement les noms des colonnes"
   ]
  },
  {
   "cell_type": "code",
   "execution_count": 2,
   "metadata": {},
   "outputs": [
    {
     "data": {
      "text/html": [
       "<div>\n",
       "<style scoped>\n",
       "    .dataframe tbody tr th:only-of-type {\n",
       "        vertical-align: middle;\n",
       "    }\n",
       "\n",
       "    .dataframe tbody tr th {\n",
       "        vertical-align: top;\n",
       "    }\n",
       "\n",
       "    .dataframe thead th {\n",
       "        text-align: right;\n",
       "    }\n",
       "</style>\n",
       "<table border=\"1\" class=\"dataframe\">\n",
       "  <thead>\n",
       "    <tr style=\"text-align: right;\">\n",
       "      <th></th>\n",
       "      <th>x1</th>\n",
       "      <th>x2</th>\n",
       "      <th>label</th>\n",
       "    </tr>\n",
       "  </thead>\n",
       "  <tbody>\n",
       "    <tr>\n",
       "      <th>0</th>\n",
       "      <td>0.830557</td>\n",
       "      <td>-2.250314</td>\n",
       "      <td>-1</td>\n",
       "    </tr>\n",
       "    <tr>\n",
       "      <th>1</th>\n",
       "      <td>0.627488</td>\n",
       "      <td>-2.533405</td>\n",
       "      <td>-1</td>\n",
       "    </tr>\n",
       "    <tr>\n",
       "      <th>2</th>\n",
       "      <td>-1.279837</td>\n",
       "      <td>-1.630564</td>\n",
       "      <td>-1</td>\n",
       "    </tr>\n",
       "    <tr>\n",
       "      <th>3</th>\n",
       "      <td>2.002088</td>\n",
       "      <td>-3.415239</td>\n",
       "      <td>-1</td>\n",
       "    </tr>\n",
       "    <tr>\n",
       "      <th>4</th>\n",
       "      <td>3.141847</td>\n",
       "      <td>-0.376081</td>\n",
       "      <td>-1</td>\n",
       "    </tr>\n",
       "  </tbody>\n",
       "</table>\n",
       "</div>"
      ],
      "text/plain": [
       "         x1        x2  label\n",
       "0  0.830557 -2.250314     -1\n",
       "1  0.627488 -2.533405     -1\n",
       "2 -1.279837 -1.630564     -1\n",
       "3  2.002088 -3.415239     -1\n",
       "4  3.141847 -0.376081     -1"
      ]
     },
     "execution_count": 2,
     "metadata": {},
     "output_type": "execute_result"
    }
   ],
   "source": [
    "data2D[0:5]"
   ]
  },
  {
   "cell_type": "code",
   "execution_count": 3,
   "metadata": {},
   "outputs": [
    {
     "data": {
      "text/plain": [
       "array([[ 0.83055692, -2.25031368],\n",
       "       [ 0.62748844, -2.53340502],\n",
       "       [-1.27983681, -1.63056446],\n",
       "       [ 2.00208794, -3.41523902],\n",
       "       [ 3.14184699, -0.37608089]])"
      ]
     },
     "execution_count": 3,
     "metadata": {},
     "output_type": "execute_result"
    }
   ],
   "source": [
    "X2D[0:5]"
   ]
  },
  {
   "cell_type": "code",
   "execution_count": 4,
   "metadata": {},
   "outputs": [
    {
     "data": {
      "text/plain": [
       "array([-1., -1., -1., -1., -1.])"
      ]
     },
     "execution_count": 4,
     "metadata": {},
     "output_type": "execute_result"
    }
   ],
   "source": [
    "Y2D[0:5]"
   ]
  },
  {
   "attachments": {},
   "cell_type": "markdown",
   "metadata": {},
   "source": [
    "# Fonction utils : \n",
    "## sans faire le 'from iads import utils'"
   ]
  },
  {
   "cell_type": "code",
   "execution_count": 5,
   "metadata": {},
   "outputs": [],
   "source": [
    "from iads import Classifiers as Classif\n",
    "import matplotlib.pyplot as plt\n",
    "import random"
   ]
  },
  {
   "cell_type": "code",
   "execution_count": 6,
   "metadata": {},
   "outputs": [],
   "source": [
    "# genere_dataset_uniform:\n",
    "def genere_dataset_uniform(p, n, binf=-1, bsup=1):\n",
    "    \"\"\" int * int * float^2 -> tuple[ndarray, ndarray]\n",
    "        Hyp: n est pair\n",
    "        p: nombre de dimensions de la description\n",
    "        n: nombre d'exemples de chaque classe\n",
    "        les valeurs générées uniformément sont dans [binf,bsup]\n",
    "    \"\"\"\n",
    "    t1 = np.random.uniform(binf, bsup, (2*n, p))\n",
    "    t2 = np.asarray([-1 for i in range(0, n)] + [+1 for i in range(0, n)])\n",
    "    return t1, t2\n",
    "\n",
    "\n",
    "# genere_dataset_gaussian:\n",
    "def genere_dataset_gaussian(positive_center, positive_sigma, negative_center, negative_sigma, nb_points):\n",
    "    \"\"\" les valeurs générées suivent une loi normale\n",
    "        rend un tuple (data_desc, data_labels)\n",
    "    \"\"\"\n",
    "    exemple_classe_negative = np.random.multivariate_normal(\n",
    "        negative_center, negative_sigma, nb_points)\n",
    "\n",
    "    exemple_classe_positive = np.random.multivariate_normal(\n",
    "        positive_center, positive_sigma, nb_points)\n",
    "\n",
    "    t1 = np.vstack((exemple_classe_negative, exemple_classe_positive))\n",
    "    t2 = np.asarray([-1 for i in range(0, nb_points)] +\n",
    "                    [+1 for i in range(0, nb_points)])\n",
    "    return t1, t2\n",
    "\n",
    "\n",
    "# plot2DSet:\n",
    "def plot2DSet(desc, labels):\n",
    "    \"\"\" ndarray * ndarray -> affichage\n",
    "        la fonction doit utiliser la couleur 'red' pour la classe -1 et 'blue' pour la +1\n",
    "    \"\"\"\n",
    "    # Extraction des exemples de classe -1:\n",
    "    data_negatifs = desc[labels == -1]\n",
    "    # Extraction des exemples de classe +1:\n",
    "    data_positifs = desc[labels == +1]\n",
    "\n",
    "    # Affichage de l'ensemble des exemples :\n",
    "    # 'o' rouge pour la classe -1\n",
    "    plt.scatter(data_negatifs[:, 0],\n",
    "                data_negatifs[:, 1], marker='o', color=\"red\")\n",
    "    plt.scatter(data_positifs[:, 0], data_positifs[:, 1],\n",
    "                marker='x', color=\"blue\")  # 'x' bleu pour la classe +1\n",
    "\n",
    "\n",
    "# plot_frontiere:\n",
    "def plot_frontiere(desc_set, label_set, classifier, step=30):\n",
    "    \"\"\" desc_set * label_set * Classifier * int -> NoneType\n",
    "        Remarque: le 4e argument est optionnel et donne la \"résolution\" du tracé: plus il est important\n",
    "        et plus le tracé de la frontière sera précis.        \n",
    "        Cette fonction affiche la frontière de décision associée au classifieur\n",
    "    \"\"\"\n",
    "    mmax = desc_set.max(0)\n",
    "    mmin = desc_set.min(0)\n",
    "    x1grid, x2grid = np.meshgrid(np.linspace(\n",
    "        mmin[0], mmax[0], step), np.linspace(mmin[1], mmax[1], step))\n",
    "    grid = np.hstack((x1grid.reshape(x1grid.size, 1),\n",
    "                     x2grid.reshape(x2grid.size, 1)))\n",
    "\n",
    "    # calcul de la prediction pour chaque point de la grille\n",
    "    res = np.array([classifier.predict(grid[i, :]) for i in range(len(grid))])\n",
    "    res = res.reshape(x1grid.shape)\n",
    "    # tracer des frontieres\n",
    "    # colors[0] est la couleur des -1 et colors[1] est la couleur des +1\n",
    "    plt.contourf(x1grid, x2grid, res, colors=[\n",
    "                 \"darksalmon\", \"skyblue\"], levels=[-1000, 0, 1000])\n",
    "\n",
    "\n",
    "def create_XOR(n, var):\n",
    "    \"\"\" int * float -> tuple[ndarray, ndarray]\n",
    "        Hyp: n et var sont positifs\n",
    "        n: nombre de points voulus\n",
    "        var: variance sur chaque dimension\n",
    "    \"\"\"\n",
    "    cov = [[var, 0], [0, var]]\n",
    "    mean = [[0, 0], [1, 0], [1, 1], [0, 1]]\n",
    "    #on\n",
    "    classe_negative_1 = np.random.multivariate_normal(mean[0], cov, n)\n",
    "    classe_positive_1 = np.random.multivariate_normal(mean[1], cov, n)\n",
    "    classe_negative_2 = np.random.multivariate_normal(mean[2], cov, n)\n",
    "    classe_positive_2 = np.random.multivariate_normal(mean[3], cov, n)\n",
    "    t1 = np.vstack((classe_negative_1, classe_negative_2,\n",
    "                    classe_positive_1, classe_positive_2))\n",
    "    t2 = np.asarray([-1 for i in range(0, 2 * n)] +\n",
    "                    [+1 for i in range(0, 2 * n)])\n",
    "    return t1, t2\n",
    "\n",
    "# ------------------------ A COMPLETER\n",
    "\n",
    "\n",
    "def genere_train_test(desc_set, label_set, n_pos, n_neg):\n",
    "    \"\"\" permet de générer une base d'apprentissage et une base de test\n",
    "        desc_set: ndarray avec des descriptions\n",
    "        label_set: ndarray avec les labels correspondants\n",
    "        n_pos: nombre d'exemples de label +1 à mettre dans la base d'apprentissage\n",
    "        n_neg: nombre d'exemples de label -1 à mettre dans la base d'apprentissage\n",
    "        Hypothèses: \n",
    "           - desc_set et label_set ont le même nombre de lignes)\n",
    "           - n_pos et n_neg, ainsi que leur somme, sont inférieurs à n (le nombre d'exemples dans desc_set)\n",
    "    \"\"\"\n",
    "    n = desc_set.shape[0]\n",
    "    index_neg = [i for i in range(n) if label_set[i] == -1]\n",
    "    index_pos = [i for i in range(n) if label_set[i] == 1]\n",
    "    index_pos_train = random.sample(index_pos, n_pos)\n",
    "    index_neg_train = random.sample(index_neg, n_neg)\n",
    "\n",
    "    train_desc = np.concatenate(\n",
    "        (desc_set[index_pos_train], desc_set[index_neg_train]))\n",
    "    train_label = np.concatenate(\n",
    "        (label_set[index_pos_train], label_set[index_neg_train]))\n",
    "\n",
    "    index_pos_test = [i for i in index_pos if i not in index_pos_train]\n",
    "    index_neg_test = [i for i in index_neg if i not in index_neg_train]\n",
    "\n",
    "    test_desc = np.concatenate(\n",
    "        (desc_set[index_pos_test], desc_set[index_neg_test]))\n",
    "    test_label = np.concatenate(\n",
    "        (label_set[index_pos_test], label_set[index_neg_test]))\n",
    "\n",
    "    return (train_desc, train_label), (test_desc, test_label)\n",
    "\n",
    "\n",
    "def crossval_strat(X, Y, n_iterations, iteration):\n",
    "    index_pos = [i for i in range(len(Y)) if Y[i] == 1]\n",
    "    index_neg = [i for i in range(len(Y)) if Y[i] == -1]\n",
    "\n",
    "    index_pos_test = index_pos[iteration*(len(index_pos) // n_iterations): (\n",
    "        iteration+1)*(len(index_pos) // n_iterations)]\n",
    "    index_neg_test = index_neg[iteration*(len(index_neg) // n_iterations): (\n",
    "        iteration+1)*(len(index_neg) // n_iterations)]\n",
    "\n",
    "    Xtest = np.concatenate((X[index_neg_test], X[index_pos_test]))\n",
    "    Ytest = np.concatenate((Y[index_neg_test], Y[index_pos_test]))\n",
    "\n",
    "    #index_pos_app =  index_pos[:iteration*(len(index_pos) // n_iterations )] + index_pos[(iteration+1)*(len(index_pos) // n_iterations ) :]\n",
    "    #index_neg_app = index_neg[:iteration*(len(index_neg) // n_iterations)] + index_neg[(iteration+1)*(len(index_neg) // n_iterations ) :]\n",
    "    index_app = [i for i in range(len(Y)) if (\n",
    "        (i not in index_pos_test) and (i not in index_neg_test))]\n",
    "\n",
    "    Xapp = X[index_app]\n",
    "    Yapp = Y[index_app]\n",
    "    return Xapp, Yapp, Xtest, Ytest"
   ]
  },
  {
   "attachments": {},
   "cell_type": "markdown",
   "metadata": {},
   "source": [
    "# Dataset : data-2D.pkl"
   ]
  },
  {
   "attachments": {},
   "cell_type": "markdown",
   "metadata": {},
   "source": [
    "## Expérimentation KNN"
   ]
  },
  {
   "attachments": {},
   "cell_type": "markdown",
   "metadata": {},
   "source": [
    "### Variation de K"
   ]
  },
  {
   "cell_type": "code",
   "execution_count": 7,
   "metadata": {},
   "outputs": [
    {
     "ename": "KeyboardInterrupt",
     "evalue": "",
     "output_type": "error",
     "traceback": [
      "\u001b[1;31m---------------------------------------------------------------------------\u001b[0m",
      "\u001b[1;31mKeyboardInterrupt\u001b[0m                         Traceback (most recent call last)",
      "Cell \u001b[1;32mIn [7], line 11\u001b[0m\n\u001b[0;32m      9\u001b[0m     Xapp, Yapp, Xtest, Ytest \u001b[39m=\u001b[39m crossval_strat(X2D, Y2D, \u001b[39miter\u001b[39m, i)\n\u001b[0;32m     10\u001b[0m     classifierKNN\u001b[39m.\u001b[39mtrain(Xapp, Yapp)\n\u001b[1;32m---> 11\u001b[0m     it_train\u001b[39m+\u001b[39m\u001b[39m=\u001b[39mclassifierKNN\u001b[39m.\u001b[39;49maccuracy(Xapp, Yapp)\n\u001b[0;32m     12\u001b[0m     it_test\u001b[39m+\u001b[39m\u001b[39m=\u001b[39mclassifierKNN\u001b[39m.\u001b[39maccuracy(Xtest, Ytest)\n\u001b[0;32m     13\u001b[0m knn_accuracy_train\u001b[39m.\u001b[39mappend(it_train\u001b[39m/\u001b[39m\u001b[39m10\u001b[39m)\n",
      "File \u001b[1;32mc:\\Users\\RAZER\\Desktop\\LU3IN026_Mini_Project1_Data_Science-1\\iads\\Classifiers.py:68\u001b[0m, in \u001b[0;36mClassifier.accuracy\u001b[1;34m(self, desc_set, label_set)\u001b[0m\n\u001b[0;32m     61\u001b[0m \u001b[39m\"\"\" Permet de calculer la qualité du système sur un dataset donné\u001b[39;00m\n\u001b[0;32m     62\u001b[0m \u001b[39m    desc_set: ndarray avec des descriptions\u001b[39;00m\n\u001b[0;32m     63\u001b[0m \u001b[39m    label_set: ndarray avec les labels correspondants\u001b[39;00m\n\u001b[0;32m     64\u001b[0m \u001b[39m    Hypothèse: desc_set et label_set ont le même nombre de lignes\u001b[39;00m\n\u001b[0;32m     65\u001b[0m \u001b[39m\"\"\"\u001b[39;00m\n\u001b[0;32m     66\u001b[0m \u001b[39m# ------------------------------\u001b[39;00m\n\u001b[0;32m     67\u001b[0m \u001b[39m# COMPLETER CETTE FONCTION ICI :\u001b[39;00m\n\u001b[1;32m---> 68\u001b[0m resultat \u001b[39m=\u001b[39m [\u001b[39mself\u001b[39m\u001b[39m.\u001b[39mpredict(desc_set[i])\n\u001b[0;32m     69\u001b[0m             \u001b[39mfor\u001b[39;00m i \u001b[39min\u001b[39;00m \u001b[39mrange\u001b[39m(\u001b[39m0\u001b[39m, \u001b[39mlen\u001b[39m(label_set))]\n\u001b[0;32m     70\u001b[0m equal_count \u001b[39m=\u001b[39m \u001b[39msum\u001b[39m([\u001b[39m1\u001b[39m \u001b[39mfor\u001b[39;00m i \u001b[39min\u001b[39;00m \u001b[39mrange\u001b[39m(\u001b[39m0\u001b[39m, \u001b[39mlen\u001b[39m(label_set))\n\u001b[0;32m     71\u001b[0m                   \u001b[39mif\u001b[39;00m label_set[i] \u001b[39m==\u001b[39m resultat[i]])\n\u001b[0;32m     72\u001b[0m \u001b[39mreturn\u001b[39;00m equal_count \u001b[39m/\u001b[39m \u001b[39mlen\u001b[39m(label_set)\n",
      "File \u001b[1;32mc:\\Users\\RAZER\\Desktop\\LU3IN026_Mini_Project1_Data_Science-1\\iads\\Classifiers.py:68\u001b[0m, in \u001b[0;36m<listcomp>\u001b[1;34m(.0)\u001b[0m\n\u001b[0;32m     61\u001b[0m \u001b[39m\"\"\" Permet de calculer la qualité du système sur un dataset donné\u001b[39;00m\n\u001b[0;32m     62\u001b[0m \u001b[39m    desc_set: ndarray avec des descriptions\u001b[39;00m\n\u001b[0;32m     63\u001b[0m \u001b[39m    label_set: ndarray avec les labels correspondants\u001b[39;00m\n\u001b[0;32m     64\u001b[0m \u001b[39m    Hypothèse: desc_set et label_set ont le même nombre de lignes\u001b[39;00m\n\u001b[0;32m     65\u001b[0m \u001b[39m\"\"\"\u001b[39;00m\n\u001b[0;32m     66\u001b[0m \u001b[39m# ------------------------------\u001b[39;00m\n\u001b[0;32m     67\u001b[0m \u001b[39m# COMPLETER CETTE FONCTION ICI :\u001b[39;00m\n\u001b[1;32m---> 68\u001b[0m resultat \u001b[39m=\u001b[39m [\u001b[39mself\u001b[39;49m\u001b[39m.\u001b[39;49mpredict(desc_set[i])\n\u001b[0;32m     69\u001b[0m             \u001b[39mfor\u001b[39;00m i \u001b[39min\u001b[39;00m \u001b[39mrange\u001b[39m(\u001b[39m0\u001b[39m, \u001b[39mlen\u001b[39m(label_set))]\n\u001b[0;32m     70\u001b[0m equal_count \u001b[39m=\u001b[39m \u001b[39msum\u001b[39m([\u001b[39m1\u001b[39m \u001b[39mfor\u001b[39;00m i \u001b[39min\u001b[39;00m \u001b[39mrange\u001b[39m(\u001b[39m0\u001b[39m, \u001b[39mlen\u001b[39m(label_set))\n\u001b[0;32m     71\u001b[0m                   \u001b[39mif\u001b[39;00m label_set[i] \u001b[39m==\u001b[39m resultat[i]])\n\u001b[0;32m     72\u001b[0m \u001b[39mreturn\u001b[39;00m equal_count \u001b[39m/\u001b[39m \u001b[39mlen\u001b[39m(label_set)\n",
      "File \u001b[1;32mc:\\Users\\RAZER\\Desktop\\LU3IN026_Mini_Project1_Data_Science-1\\iads\\Classifiers.py:111\u001b[0m, in \u001b[0;36mClassifierKNN.predict\u001b[1;34m(self, x)\u001b[0m\n\u001b[0;32m    107\u001b[0m \u001b[39mdef\u001b[39;00m \u001b[39mpredict\u001b[39m(\u001b[39mself\u001b[39m, x):\n\u001b[0;32m    108\u001b[0m     \u001b[39m\"\"\" rend la prediction sur x (-1 ou +1)\u001b[39;00m\n\u001b[0;32m    109\u001b[0m \u001b[39m        x: une description : un ndarray\u001b[39;00m\n\u001b[0;32m    110\u001b[0m \u001b[39m    \"\"\"\u001b[39;00m\n\u001b[1;32m--> 111\u001b[0m     \u001b[39mreturn\u001b[39;00m (\u001b[39m+\u001b[39m\u001b[39m1\u001b[39m \u001b[39mif\u001b[39;00m \u001b[39mself\u001b[39;49m\u001b[39m.\u001b[39;49mscore(x) \u001b[39m>\u001b[39m\u001b[39m=\u001b[39m \u001b[39m0\u001b[39m \u001b[39melse\u001b[39;00m \u001b[39m-\u001b[39m\u001b[39m1\u001b[39m)\n\u001b[0;32m    112\u001b[0m     \u001b[39mraise\u001b[39;00m \u001b[39mNotImplementedError\u001b[39;00m(\u001b[39m\"\u001b[39m\u001b[39mPlease Implement this method\u001b[39m\u001b[39m\"\u001b[39m)\n",
      "File \u001b[1;32mc:\\Users\\RAZER\\Desktop\\LU3IN026_Mini_Project1_Data_Science-1\\iads\\Classifiers.py:102\u001b[0m, in \u001b[0;36mClassifierKNN.score\u001b[1;34m(self, x)\u001b[0m\n\u001b[0;32m     98\u001b[0m \u001b[39m\"\"\" rend la proportion de +1 parmi les k ppv de x (valeur réelle)\u001b[39;00m\n\u001b[0;32m     99\u001b[0m \u001b[39m    x: une description : un ndarray\u001b[39;00m\n\u001b[0;32m    100\u001b[0m \u001b[39m\"\"\"\u001b[39;00m\n\u001b[0;32m    101\u001b[0m dist\u001b[39m=\u001b[39m np\u001b[39m.\u001b[39mlinalg\u001b[39m.\u001b[39mnorm(\u001b[39mself\u001b[39m\u001b[39m.\u001b[39mdesc\u001b[39m-\u001b[39mx, axis\u001b[39m=\u001b[39m\u001b[39m1\u001b[39m)\n\u001b[1;32m--> 102\u001b[0m argsort\u001b[39m=\u001b[39m np\u001b[39m.\u001b[39;49margsort(dist)\n\u001b[0;32m    103\u001b[0m score\u001b[39m=\u001b[39m np\u001b[39m.\u001b[39msum(\u001b[39mself\u001b[39m\u001b[39m.\u001b[39mlabel[argsort[:\u001b[39mself\u001b[39m\u001b[39m.\u001b[39mk]] \u001b[39m==\u001b[39m \u001b[39m1\u001b[39m)\n\u001b[0;32m    104\u001b[0m \u001b[39mreturn\u001b[39;00m \u001b[39m2\u001b[39m \u001b[39m*\u001b[39m (score\u001b[39m/\u001b[39m\u001b[39mself\u001b[39m\u001b[39m.\u001b[39mk \u001b[39m-\u001b[39m \u001b[39m0.5\u001b[39m)\n",
      "File \u001b[1;32m<__array_function__ internals>:180\u001b[0m, in \u001b[0;36margsort\u001b[1;34m(*args, **kwargs)\u001b[0m\n",
      "File \u001b[1;32mc:\\Users\\RAZER\\AppData\\Local\\Programs\\Python\\Python310\\lib\\site-packages\\numpy\\core\\fromnumeric.py:1120\u001b[0m, in \u001b[0;36margsort\u001b[1;34m(a, axis, kind, order)\u001b[0m\n\u001b[0;32m   1012\u001b[0m \u001b[39m@array_function_dispatch\u001b[39m(_argsort_dispatcher)\n\u001b[0;32m   1013\u001b[0m \u001b[39mdef\u001b[39;00m \u001b[39margsort\u001b[39m(a, axis\u001b[39m=\u001b[39m\u001b[39m-\u001b[39m\u001b[39m1\u001b[39m, kind\u001b[39m=\u001b[39m\u001b[39mNone\u001b[39;00m, order\u001b[39m=\u001b[39m\u001b[39mNone\u001b[39;00m):\n\u001b[0;32m   1014\u001b[0m     \u001b[39m\"\"\"\u001b[39;00m\n\u001b[0;32m   1015\u001b[0m \u001b[39m    Returns the indices that would sort an array.\u001b[39;00m\n\u001b[0;32m   1016\u001b[0m \n\u001b[1;32m   (...)\u001b[0m\n\u001b[0;32m   1118\u001b[0m \n\u001b[0;32m   1119\u001b[0m \u001b[39m    \"\"\"\u001b[39;00m\n\u001b[1;32m-> 1120\u001b[0m     \u001b[39mreturn\u001b[39;00m _wrapfunc(a, \u001b[39m'\u001b[39;49m\u001b[39margsort\u001b[39;49m\u001b[39m'\u001b[39;49m, axis\u001b[39m=\u001b[39;49maxis, kind\u001b[39m=\u001b[39;49mkind, order\u001b[39m=\u001b[39;49morder)\n",
      "File \u001b[1;32mc:\\Users\\RAZER\\AppData\\Local\\Programs\\Python\\Python310\\lib\\site-packages\\numpy\\core\\fromnumeric.py:57\u001b[0m, in \u001b[0;36m_wrapfunc\u001b[1;34m(obj, method, *args, **kwds)\u001b[0m\n\u001b[0;32m     54\u001b[0m     \u001b[39mreturn\u001b[39;00m _wrapit(obj, method, \u001b[39m*\u001b[39margs, \u001b[39m*\u001b[39m\u001b[39m*\u001b[39mkwds)\n\u001b[0;32m     56\u001b[0m \u001b[39mtry\u001b[39;00m:\n\u001b[1;32m---> 57\u001b[0m     \u001b[39mreturn\u001b[39;00m bound(\u001b[39m*\u001b[39margs, \u001b[39m*\u001b[39m\u001b[39m*\u001b[39mkwds)\n\u001b[0;32m     58\u001b[0m \u001b[39mexcept\u001b[39;00m \u001b[39mTypeError\u001b[39;00m:\n\u001b[0;32m     59\u001b[0m     \u001b[39m# A TypeError occurs if the object does have such a method in its\u001b[39;00m\n\u001b[0;32m     60\u001b[0m     \u001b[39m# class, but its signature is not identical to that of NumPy's. This\u001b[39;00m\n\u001b[1;32m   (...)\u001b[0m\n\u001b[0;32m     64\u001b[0m     \u001b[39m# Call _wrapit from within the except clause to ensure a potential\u001b[39;00m\n\u001b[0;32m     65\u001b[0m     \u001b[39m# exception has a traceback chain.\u001b[39;00m\n\u001b[0;32m     66\u001b[0m     \u001b[39mreturn\u001b[39;00m _wrapit(obj, method, \u001b[39m*\u001b[39margs, \u001b[39m*\u001b[39m\u001b[39m*\u001b[39mkwds)\n",
      "\u001b[1;31mKeyboardInterrupt\u001b[0m: "
     ]
    }
   ],
   "source": [
    "knn_accuracy_test = []\n",
    "knn_accuracy_train = []\n",
    "iter = 10\n",
    "for k in range(1,70,16):\n",
    "    classifierKNN = Classif.ClassifierKNN(2, k)\n",
    "    it_train=0\n",
    "    it_test=0\n",
    "    for i in range(iter):\n",
    "        Xapp, Yapp, Xtest, Ytest = crossval_strat(X2D, Y2D, iter, i)\n",
    "        classifierKNN.train(Xapp, Yapp)\n",
    "        it_train+=classifierKNN.accuracy(Xapp, Yapp)\n",
    "        it_test+=classifierKNN.accuracy(Xtest, Ytest)\n",
    "    knn_accuracy_train.append(it_train/10)\n",
    "    knn_accuracy_test.append(it_test/10)\n"
   ]
  },
  {
   "attachments": {},
   "cell_type": "markdown",
   "metadata": {},
   "source": [
    "### Ploter les résultats"
   ]
  },
  {
   "cell_type": "code",
   "execution_count": null,
   "metadata": {},
   "outputs": [
    {
     "data": {
      "image/png": "[encoded data removed]",
      "text/plain": [
       "<Figure size 640x480 with 1 Axes>"
      ]
     },
     "metadata": {},
     "output_type": "display_data"
    }
   ],
   "source": [
    "plt.plot(knn_accuracy_train, label='training accuracy')\n",
    "plt.plot(knn_accuracy_test, label='testing accuracy')\n",
    "plt.legend()\n",
    "plt.show()"
   ]
  },
  {
   "cell_type": "code",
   "execution_count": 8,
   "metadata": {},
   "outputs": [],
   "source": [
    "knn_accuracy_test = []\n",
    "knn_accuracy_train = []\n",
    "iter = 10\n",
    "for k in range(11, 20, 2):\n",
    "    classifierKNN = Classif.ClassifierKNN(2, k)\n",
    "    it_train = 0\n",
    "    it_test = 0\n",
    "    for i in range(iter):\n",
    "        Xapp, Yapp, Xtest, Ytest = crossval_strat(X2D, Y2D, iter, i)\n",
    "        classifierKNN.train(Xapp, Yapp)\n",
    "        it_train += classifierKNN.accuracy(Xapp, Yapp)\n",
    "        it_test += classifierKNN.accuracy(Xtest, Ytest)\n",
    "    knn_accuracy_train.append(it_train/10)\n",
    "    knn_accuracy_test.append(it_test/10)\n"
   ]
  },
  {
   "cell_type": "code",
   "execution_count": 9,
   "metadata": {},
   "outputs": [
    {
     "data": {
      "image/png": "[encoded data removed]",
      "text/plain": [
       "<Figure size 640x480 with 1 Axes>"
      ]
     },
     "metadata": {},
     "output_type": "display_data"
    }
   ],
   "source": [
    "plt.plot(knn_accuracy_train, label='training accuracy')\n",
    "plt.plot(knn_accuracy_test, label='testing accuracy')\n",
    "plt.legend()\n",
    "plt.show()\n"
   ]
  },
  {
   "attachments": {},
   "cell_type": "markdown",
   "metadata": {},
   "source": [
    "### Interprétation des résultats"
   ]
  },
  {
   "attachments": {},
   "cell_type": "markdown",
   "metadata": {},
   "source": [
    "### Conclusion : K-optimal"
   ]
  },
  {
   "attachments": {},
   "cell_type": "markdown",
   "metadata": {},
   "source": [
    "k = 15, c'est le K optimal"
   ]
  },
  {
   "attachments": {},
   "cell_type": "markdown",
   "metadata": {},
   "source": [
    "## Expérimentation Perceptron"
   ]
  },
  {
   "attachments": {},
   "cell_type": "markdown",
   "metadata": {},
   "source": [
    "### Variation de réglage d'initialisation"
   ]
  },
  {
   "cell_type": "code",
   "execution_count": null,
   "metadata": {},
   "outputs": [],
   "source": [
    "# Définition des données d'apprentissage (on reprend les données data_gauss générées plus haut)\n",
    "perceptron_accuracy_test = []\n",
    "perceptron_accuracy_train = []\n",
    "niter = 10\n",
    "for i in range(niter):\n",
    "    Xapp, Yapp, Xtest, Ytest = crossval_strat(X2D, Y2D, niter, i)\n",
    "    # Création d'un perceptron avec initialisation à 0 et le learning_rate ci-dessous:\n",
    "    perceptron = Classif.ClassifierPerceptron(2)\n",
    "    \n",
    "for k in range(1, 70, 16):\n",
    "    print(k)\n",
    "    \n",
    "    it_train = 0\n",
    "    it_test = 0\n",
    "    for i in range(iter):\n",
    "        Xapp, Yapp, Xtest, Ytest = crossval_strat(X2D, Y2D, iter, i)\n",
    "        classifierKNN.train(Xapp, Yapp)\n",
    "        it_train += classifierKNN.accuracy(Xapp, Yapp)\n",
    "        it_test += classifierKNN.accuracy(Xtest, Ytest)\n",
    "    knn_accuracy_train.append(it_train/10)\n",
    "    knn_accuracy_test.append(it_test/10)\n",
    "\n",
    "# -----\n",
    "# Apprentissage pas à pas du perceptron et mémorisation de l'accuracy à chaque étape:\n",
    "# Listes qui vont servir à mémoriser les accuracy du perceptron à chaque étape:\n",
    "train_acc = []\n",
    "test_acc = []\n",
    "\n",
    "\n",
    "# Réalisation de N itérations\n",
    "N = 100\n",
    "print(\"Init perceptron w=\", perceptron1.w)\n",
    "for i in range(N):\n",
    "    perceptron1.train_step(data_train, label_train)\n",
    "    train_acc.append(perceptron1.accuracy(data_train, label_train))\n",
    "    test_acc.append(perceptron1.accuracy(data_test, label_test))\n",
    "\n",
    "\n",
    "# -----\n",
    "# Traçage de la courbe des variations d'accuracy\n",
    "plt.plot(range(1, N+1), train_acc, test_acc)\n",
    "plt.ylabel('Accuracy')\n",
    "plt.xlabel(\"Etape\")\n",
    "plt.show()\n",
    "\n",
    "# -----\n",
    "# Affichage de la frontière de séparation des classes (en prenant tous les exemples de la base)\n",
    "plot_frontiere(data_gauss_desc, data_gauss_label, perceptron1, step=150)\n",
    "plot2DSet(data_gauss_desc, data_gauss_label)\n",
    "\n",
    "print(\"Accuracy finale (train): \", perceptron1.accuracy(data_train, label_train))\n",
    "print(\"Accuracy finale (test) : \", perceptron1.accuracy(data_test, label_test))\n"
   ]
  },
  {
   "attachments": {},
   "cell_type": "markdown",
   "metadata": {},
   "source": [
    "### Variation du learning rate"
   ]
  },
  {
   "attachments": {},
   "cell_type": "markdown",
   "metadata": {},
   "source": [
    "## Expérimentation Perceptron Biais"
   ]
  },
  {
   "attachments": {},
   "cell_type": "markdown",
   "metadata": {},
   "source": [
    "# Dataset : data-5D.pkl"
   ]
  }
 ],
 "metadata": {
  "kernelspec": {
   "display_name": "Python 3",
   "language": "python",
   "name": "python3"
  },
  "language_info": {
   "codemirror_mode": {
    "name": "ipython",
    "version": 3
   },
   "file_extension": ".py",
   "mimetype": "text/x-python",
   "name": "python",
   "nbconvert_exporter": "python",
   "pygments_lexer": "ipython3",
   "version": "3.10.0"
  },
  "vscode": {
   "interpreter": {
    "hash": "9af53353804afc09f90d8f022eaec6e99fffff96cfdda280d845f608b681a8ce"
   }
  }
 },
 "nbformat": 4,
 "nbformat_minor": 1
}
