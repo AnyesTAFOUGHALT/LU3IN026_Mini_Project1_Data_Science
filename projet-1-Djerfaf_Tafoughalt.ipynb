{
 "cells": [
  {
   "cell_type": "markdown",
   "metadata": {},
   "source": [
    "IA & Data science (LU3IN0226) -- 2022-2023\n",
    "--------\n",
    "*&copy; Equipe pédagogique: Christophe Marsala, Olivier Schwander, Jean-Noël Vittaut.*"
   ]
  },
  {
   "cell_type": "markdown",
   "metadata": {},
   "source": [
    "<font size=\"+1\" color=\"RED\"><b>[Q]</b></font> <font size=\"+1\"><b>Indiquer dans la boîte ci-dessous vos noms et prénoms :</b></font>"
   ]
  },
  {
   "attachments": {},
   "cell_type": "markdown",
   "metadata": {},
   "source": [
    "DJERFAF Ilyes\\\n",
    "TAFOUGHALT Anyes"
   ]
  },
  {
   "cell_type": "markdown",
   "metadata": {},
   "source": [
    "Ce projet peut être fait en binôme (d'un même groupe). Le nom de chaque membre du binôme doit être indiqué, et un seul rendu sur un des deux comptes Moodle doit être fait.\n",
    "\n",
    "Les groupes de plus de 2 personnes ne sont pas autorisés."
   ]
  },
  {
   "cell_type": "markdown",
   "metadata": {},
   "source": [
    "<font color=\"RED\" size=\"+1\"><b>[Q]</b></font> **Renommer ce fichier ipython**\n",
    "\n",
    "Tout en haut de cette page, cliquer sur <tt>projet-1</tt> et rajouter à la suite de <tt>projet-1</tt> les noms des membres du binômes séparés par un tiret.\n",
    "\n",
    "<font color=\"RED\" size=\"+1\">IMPORTANT: soumission de votre fichier final</font>\n",
    "\n",
    "**Nom à donner au notebook** : *projet-1-Nom1_Nom2.ipynb* \n",
    "- *Nom1* et *Nom2* : noms des membres du binôme\n",
    "\n",
    "**Le compte-rendu doit être rendu sur la page Moodle.**"
   ]
  },
  {
   "cell_type": "markdown",
   "metadata": {},
   "source": [
    "# Projet 1 - février-mars 2023\n",
    "\n",
    "\n",
    "<font size=\"+1\" color=\"RED\"><b>Date de rendu : jeudi 22 mars, 18h au plus tard</b></font>\n",
    "<br />\n",
    "\n",
    "\n",
    "Vous devez compléter ce notebook en rajoutant vos expérimentations avec vos algorithmes d'apprentissage sur les 2 datasets fournis dans le répertoire data-projet:\n",
    "- les données data-2D.pkl : données en 2 dimensions, 2 labels\n",
    "- les données data-5D.pkl : données en 5 dimensions, 2 labels\n",
    "\n",
    "## Travail à faire\n",
    "\n",
    "Pour chaque ensemble de données:\n",
    "- les 3 algorithmes d'apprentissage knn, perceptron et perceptron biais doivent être expérimentés et comparés (ATTENTION: on ne veut que des algorithmes que vous avez implémentés vous-même dans cette UE).\n",
    "- des résultats d'expérimentations doivent fournir une comparaison des taux de bonne classification apprentissage / test avec validation croisée en 10.\n",
    "- des courbes (coût, poids, variation d'accuracy,...) doivent être fournies pour étudier les modèles construits.\n",
    "\n",
    "Vos **expérimentations doivent être expliquées**... (utilisez des boîtes Markdown pour saisir vos explications):\n",
    "- une argumentation du type *\"pourquoi vous avez fait cette expérimentation\"* doit être fournie;\n",
    "- une analyse succincte du résultat fourni doit être aussi donnée.\n",
    "\n",
    "\n",
    "\n",
    "Par exemple (indicatif): choix de $k$ pour le knn:\n",
    "- argumentation : pour décider quelle peut être la valeur de $k$ optimale, on décide de tester plusieurs valeurs différentes et de comparer les taux de bonne classification sur la base de test obtenus.\n",
    "- analyse du résultat: on remarque que la valeur $k$ suivante fournie le meilleur résultat.\n",
    "- étude du temps d'exécution.\n",
    "\n",
    "\n",
    "## Travail à rendre\n",
    "Ce qui doit être rendu : un fichier archive (`.tar`, `.tgz`, ou `.zip` uniquement) contenant uniquement ce notebook, dans lequel vous avez reporté toutes les fonctions que vous utilisez : ce notebook doit pouvoir être exécuté sans autre apport (pensez à vous en assurer avant de le rendre). Les fichiers de données ne doivent pas être inclus dans votre archive !\n",
    "\n"
   ]
  },
  {
   "cell_type": "markdown",
   "metadata": {},
   "source": [
    "## Lecture des pickles\n",
    "\n"
   ]
  },
  {
   "cell_type": "code",
   "execution_count": 18,
   "metadata": {},
   "outputs": [],
   "source": [
    "# Importation de librairies standards:\n",
    "import numpy as np\n",
    "import pandas as pd\n",
    "import matplotlib.pyplot as plt\n",
    "import random\n",
    "\n",
    "# Importation de la librairie pickle\n",
    "import pickle as pkl\n",
    "\n",
    "# lecture des donnéees en dimension 2 dans un dataframe pandas\n",
    "data2D = pkl.load(open('data-projet/data-2D.pkl', 'rb')) \n",
    "X2D = np.array(data2D[['x1', 'x2']], dtype=float) # conversion de type pour une meilleure compatibilité\n",
    "Y2D = np.array(data2D['label'], dtype=float)\n",
    "\n",
    "# pour les données en dimension 5, la méthode est la même, modifier seulement les noms des colonnes"
   ]
  },
  {
   "cell_type": "code",
   "execution_count": 3,
   "metadata": {},
   "outputs": [
    {
     "data": {
      "text/html": [
       "<div>\n",
       "<style scoped>\n",
       "    .dataframe tbody tr th:only-of-type {\n",
       "        vertical-align: middle;\n",
       "    }\n",
       "\n",
       "    .dataframe tbody tr th {\n",
       "        vertical-align: top;\n",
       "    }\n",
       "\n",
       "    .dataframe thead th {\n",
       "        text-align: right;\n",
       "    }\n",
       "</style>\n",
       "<table border=\"1\" class=\"dataframe\">\n",
       "  <thead>\n",
       "    <tr style=\"text-align: right;\">\n",
       "      <th></th>\n",
       "      <th>x1</th>\n",
       "      <th>x2</th>\n",
       "      <th>label</th>\n",
       "    </tr>\n",
       "  </thead>\n",
       "  <tbody>\n",
       "    <tr>\n",
       "      <th>0</th>\n",
       "      <td>0.830557</td>\n",
       "      <td>-2.250314</td>\n",
       "      <td>-1</td>\n",
       "    </tr>\n",
       "    <tr>\n",
       "      <th>1</th>\n",
       "      <td>0.627488</td>\n",
       "      <td>-2.533405</td>\n",
       "      <td>-1</td>\n",
       "    </tr>\n",
       "    <tr>\n",
       "      <th>2</th>\n",
       "      <td>-1.279837</td>\n",
       "      <td>-1.630564</td>\n",
       "      <td>-1</td>\n",
       "    </tr>\n",
       "    <tr>\n",
       "      <th>3</th>\n",
       "      <td>2.002088</td>\n",
       "      <td>-3.415239</td>\n",
       "      <td>-1</td>\n",
       "    </tr>\n",
       "    <tr>\n",
       "      <th>4</th>\n",
       "      <td>3.141847</td>\n",
       "      <td>-0.376081</td>\n",
       "      <td>-1</td>\n",
       "    </tr>\n",
       "  </tbody>\n",
       "</table>\n",
       "</div>"
      ],
      "text/plain": [
       "         x1        x2  label\n",
       "0  0.830557 -2.250314     -1\n",
       "1  0.627488 -2.533405     -1\n",
       "2 -1.279837 -1.630564     -1\n",
       "3  2.002088 -3.415239     -1\n",
       "4  3.141847 -0.376081     -1"
      ]
     },
     "execution_count": 3,
     "metadata": {},
     "output_type": "execute_result"
    }
   ],
   "source": [
    "data2D[0:5]"
   ]
  },
  {
   "cell_type": "code",
   "execution_count": 4,
   "metadata": {},
   "outputs": [
    {
     "data": {
      "text/plain": [
       "array([[ 0.83055692, -2.25031368],\n",
       "       [ 0.62748844, -2.53340502],\n",
       "       [-1.27983681, -1.63056446],\n",
       "       [ 2.00208794, -3.41523902],\n",
       "       [ 3.14184699, -0.37608089]])"
      ]
     },
     "execution_count": 4,
     "metadata": {},
     "output_type": "execute_result"
    }
   ],
   "source": [
    "X2D[0:5]"
   ]
  },
  {
   "cell_type": "code",
   "execution_count": 5,
   "metadata": {},
   "outputs": [
    {
     "data": {
      "text/plain": [
       "array([-1., -1., -1., -1., -1.])"
      ]
     },
     "execution_count": 5,
     "metadata": {},
     "output_type": "execute_result"
    }
   ],
   "source": [
    "Y2D[0:5]"
   ]
  },
  {
   "attachments": {},
   "cell_type": "markdown",
   "metadata": {},
   "source": [
    "# Import de notre iads :\n",
    "L'ensemble des fonctions qu'on a développé dans les premiers TME "
   ]
  },
  {
   "cell_type": "code",
   "execution_count": 32,
   "metadata": {},
   "outputs": [],
   "source": [
    "# La ligne suivante permet de préciser le chemin d'accès à la librairie iads\n",
    "import sys\n",
    "sys.path.append('../')"
   ]
  },
  {
   "cell_type": "code",
   "execution_count": 33,
   "metadata": {},
   "outputs": [],
   "source": [
    "# iads doit être dans le répertoire père du répertoire courant !\n",
    "import iads as iads"
   ]
  },
  {
   "cell_type": "code",
   "execution_count": 34,
   "metadata": {},
   "outputs": [],
   "source": [
    "# importation de Classifiers\n",
    "from iads import Classifiers as classif"
   ]
  },
  {
   "cell_type": "code",
   "execution_count": 35,
   "metadata": {},
   "outputs": [],
   "source": [
    "# importation de utils\n",
    "from iads import utils as ut"
   ]
  },
  {
   "attachments": {},
   "cell_type": "markdown",
   "metadata": {},
   "source": [
    "# Dataset : data-2D.pkl"
   ]
  },
  {
   "attachments": {},
   "cell_type": "markdown",
   "metadata": {},
   "source": [
    "## Expérimentation KNN"
   ]
  },
  {
   "attachments": {},
   "cell_type": "markdown",
   "metadata": {},
   "source": [
    "### Détermination de la zone de pic de K"
   ]
  },
  {
   "attachments": {},
   "cell_type": "markdown",
   "metadata": {},
   "source": [
    "<span style=\"color:blue\">\n",
    "\n",
    "-   En utilisant le graph d'accuracy en fonction de k, on peut identifier la complexité du modèle. Si la valeur de k est faible, le modèle sera plus complexe et s'ajustera mieux aux données d'entraînement. Cependant, cela peut entraîner un surapprentissage (overfitting) et une moins bonne performance sur les données de test. Si la valeur de k est élevée, le modèle sera plus simple et risque de sous-apprendre (underfitting), ce qui peut également entraîner une moins bonne performance sur les données de test.\n",
    "\n",
    "-   Le graph d'accuracy de test en fonction de k peut être utilisé pour déterminer la valeur optimale de k. Cette valeur correspond à celle qui donne la meilleure performance sur les données de test (Pic). \n",
    "\n",
    "</span>\n",
    "\n",
    "<span style=\"color:red\">\n",
    "Il est important de noter que cette valeur optimale peut varier en fonction du jeu de données et des caractéristiques spécifiques de chaque problème.\n",
    "</span>"
   ]
  },
  {
   "attachments": {},
   "cell_type": "markdown",
   "metadata": {},
   "source": [
    "#### Stratégie : 1- Prendre un K tres grand pour situer la zone de pic"
   ]
  },
  {
   "cell_type": "code",
   "execution_count": 36,
   "metadata": {},
   "outputs": [
    {
     "ename": "AttributeError",
     "evalue": "module 'iads.utils' has no attribute 'crossval_strat'",
     "output_type": "error",
     "traceback": [
      "\u001b[1;31m---------------------------------------------------------------------------\u001b[0m",
      "\u001b[1;31mAttributeError\u001b[0m                            Traceback (most recent call last)",
      "Cell \u001b[1;32mIn [36], line 12\u001b[0m\n\u001b[0;32m      9\u001b[0m it_test\u001b[39m=\u001b[39m\u001b[39m0\u001b[39m\n\u001b[0;32m     11\u001b[0m \u001b[39mfor\u001b[39;00m i \u001b[39min\u001b[39;00m \u001b[39mrange\u001b[39m(\u001b[39miter\u001b[39m):\n\u001b[1;32m---> 12\u001b[0m     Xapp, Yapp, Xtest, Ytest \u001b[39m=\u001b[39m ut\u001b[39m.\u001b[39;49mcrossval_strat(X2D, Y2D, \u001b[39miter\u001b[39m, i)\n\u001b[0;32m     13\u001b[0m     classifierKNN\u001b[39m.\u001b[39mtrain(Xapp, Yapp)\n\u001b[0;32m     14\u001b[0m     it_train\u001b[39m+\u001b[39m\u001b[39m=\u001b[39mclassifierKNN\u001b[39m.\u001b[39maccuracy(Xapp, Yapp)\n",
      "\u001b[1;31mAttributeError\u001b[0m: module 'iads.utils' has no attribute 'crossval_strat'"
     ]
    }
   ],
   "source": [
    "k_values = list(range(1, 100, 16))\n",
    "knn_accuracy_test = []\n",
    "knn_accuracy_train = []\n",
    "iter = 10\n",
    "\n",
    "for k in k_values:\n",
    "    classifierKNN = classif.ClassifierKNN(2, k)\n",
    "    it_train=0\n",
    "    it_test=0\n",
    "    for i in range(iter):\n",
    "        Xapp, Yapp, Xtest, Ytest = ut.crossval_strat(X2D, Y2D, iter, i)\n",
    "        classifierKNN.train(Xapp, Yapp)\n",
    "        it_train+=classifierKNN.accuracy(Xapp, Yapp)\n",
    "        it_test+=classifierKNN.accuracy(Xtest, Ytest)\n",
    "    knn_accuracy_train.append(it_train/iter)\n",
    "    knn_accuracy_test.append(it_test/iter)"
   ]
  },
  {
   "attachments": {},
   "cell_type": "markdown",
   "metadata": {},
   "source": [
    "### Ploter les résultats"
   ]
  },
  {
   "cell_type": "code",
   "execution_count": 13,
   "metadata": {},
   "outputs": [
    {
     "data": {
      "image/png": "[encoded data removed]",
      "text/plain": [
       "<Figure size 640x480 with 1 Axes>"
      ]
     },
     "metadata": {},
     "output_type": "display_data"
    }
   ],
   "source": [
    "plt.plot(k_values, knn_accuracy_train, label='training accuracy')\n",
    "plt.plot(k_values, knn_accuracy_test, label='testing accuracy')\n",
    "plt.legend()\n",
    "plt.xlabel('k values')\n",
    "plt.ylabel('accuracy')\n",
    "plt.show()"
   ]
  },
  {
   "cell_type": "code",
   "execution_count": null,
   "metadata": {},
   "outputs": [],
   "source": [
    "knn_accuracy_test = []\n",
    "knn_accuracy_train = []\n",
    "iter = 10\n",
    "for k in range(1,70,16):\n",
    "    classifierKNN = Classif.ClassifierKNN(2, k)\n",
    "    it_train=0\n",
    "    it_test=0\n",
    "    \n",
    "    for i in range(iter):\n",
    "        Xapp, Yapp, Xtest, Ytest = crossval_strat(X2D, Y2D, iter, i)\n",
    "        classifierKNN.train(Xapp, Yapp)\n",
    "        it_train+=classifierKNN.accuracy(Xapp, Yapp)\n",
    "        it_test+=classifierKNN.accuracy(Xtest, Ytest)\n",
    "    knn_accuracy_train.append(it_train/10)\n",
    "    knn_accuracy_test.append(it_test/10)\n"
   ]
  },
  {
   "cell_type": "code",
   "execution_count": null,
   "metadata": {},
   "outputs": [],
   "source": [
    "knn_accuracy_test = []\n",
    "knn_accuracy_train = []\n",
    "iter = 10\n",
    "for k in range(1,70,16):\n",
    "    classifierKNN = Classif.ClassifierKNN(2, k)\n",
    "    it_train=0\n",
    "    it_test=0\n",
    "    \n",
    "    for i in range(iter):\n",
    "        Xapp, Yapp, Xtest, Ytest = crossval_strat(X2D, Y2D, iter, i)\n",
    "        classifierKNN.train(Xapp, Yapp)\n",
    "        it_train+=classifierKNN.accuracy(Xapp, Yapp)\n",
    "        it_test+=classifierKNN.accuracy(Xtest, Ytest)\n",
    "    knn_accuracy_train.append(it_train/10)\n",
    "    knn_accuracy_test.append(it_test/10)\n"
   ]
  },
  {
   "cell_type": "code",
   "execution_count": 8,
   "metadata": {},
   "outputs": [],
   "source": [
    "knn_accuracy_test = []\n",
    "knn_accuracy_train = []\n",
    "iter = 10\n",
    "for k in range(11, 20, 2):\n",
    "    classifierKNN = Classif.ClassifierKNN(2, k)\n",
    "    it_train = 0\n",
    "    it_test = 0\n",
    "    for i in range(iter):\n",
    "        Xapp, Yapp, Xtest, Ytest = crossval_strat(X2D, Y2D, iter, i)\n",
    "        classifierKNN.train(Xapp, Yapp)\n",
    "        it_train += classifierKNN.accuracy(Xapp, Yapp)\n",
    "        it_test += classifierKNN.accuracy(Xtest, Ytest)\n",
    "    knn_accuracy_train.append(it_train/10)\n",
    "    knn_accuracy_test.append(it_test/10)\n"
   ]
  },
  {
   "cell_type": "code",
   "execution_count": 9,
   "metadata": {},
   "outputs": [
    {
     "data": {
      "image/png": "[encoded data removed]",
      "text/plain": [
       "<Figure size 640x480 with 1 Axes>"
      ]
     },
     "metadata": {},
     "output_type": "display_data"
    }
   ],
   "source": [
    "plt.plot(knn_accuracy_train, label='training accuracy')\n",
    "plt.plot(knn_accuracy_test, label='testing accuracy')\n",
    "plt.legend()\n",
    "plt.show()\n"
   ]
  },
  {
   "attachments": {},
   "cell_type": "markdown",
   "metadata": {},
   "source": [
    "### Interprétation des résultats"
   ]
  },
  {
   "attachments": {},
   "cell_type": "markdown",
   "metadata": {},
   "source": [
    "### Conclusion : K-optimal"
   ]
  },
  {
   "attachments": {},
   "cell_type": "markdown",
   "metadata": {},
   "source": [
    "k = 15, c'est le K optimal"
   ]
  },
  {
   "attachments": {},
   "cell_type": "markdown",
   "metadata": {},
   "source": [
    "## Expérimentation Perceptron"
   ]
  },
  {
   "attachments": {},
   "cell_type": "markdown",
   "metadata": {},
   "source": [
    "### Variation de réglage d'initialisation"
   ]
  },
  {
   "cell_type": "code",
   "execution_count": null,
   "metadata": {},
   "outputs": [],
   "source": [
    "# Définition des données d'apprentissage (on reprend les données data_gauss générées plus haut)\n",
    "perceptron_accuracy_test = []\n",
    "perceptron_accuracy_train = []\n",
    "niter = 10\n",
    "for i in range(niter):\n",
    "    Xapp, Yapp, Xtest, Ytest = crossval_strat(X2D, Y2D, niter, i)\n",
    "    # Création d'un perceptron avec initialisation à 0 et le learning_rate ci-dessous:\n",
    "    perceptron = Classif.ClassifierPerceptron(2)\n",
    "    \n",
    "for k in range(1, 70, 16):\n",
    "    print(k)\n",
    "    \n",
    "    it_train = 0\n",
    "    it_test = 0\n",
    "    for i in range(iter):\n",
    "        Xapp, Yapp, Xtest, Ytest = crossval_strat(X2D, Y2D, iter, i)\n",
    "        classifierKNN.train(Xapp, Yapp)\n",
    "        it_train += classifierKNN.accuracy(Xapp, Yapp)\n",
    "        it_test += classifierKNN.accuracy(Xtest, Ytest)\n",
    "    knn_accuracy_train.append(it_train/10)\n",
    "    knn_accuracy_test.append(it_test/10)\n",
    "\n",
    "# -----\n",
    "# Apprentissage pas à pas du perceptron et mémorisation de l'accuracy à chaque étape:\n",
    "# Listes qui vont servir à mémoriser les accuracy du perceptron à chaque étape:\n",
    "train_acc = []\n",
    "test_acc = []\n",
    "\n",
    "\n",
    "# Réalisation de N itérations\n",
    "N = 100\n",
    "print(\"Init perceptron w=\", perceptron1.w)\n",
    "for i in range(N):\n",
    "    perceptron1.train_step(data_train, label_train)\n",
    "    train_acc.append(perceptron1.accuracy(data_train, label_train))\n",
    "    test_acc.append(perceptron1.accuracy(data_test, label_test))\n",
    "\n",
    "\n",
    "# -----\n",
    "# Traçage de la courbe des variations d'accuracy\n",
    "plt.plot(range(1, N+1), train_acc, test_acc)\n",
    "plt.ylabel('Accuracy')\n",
    "plt.xlabel(\"Etape\")\n",
    "plt.show()\n",
    "\n",
    "# -----\n",
    "# Affichage de la frontière de séparation des classes (en prenant tous les exemples de la base)\n",
    "plot_frontiere(data_gauss_desc, data_gauss_label, perceptron1, step=150)\n",
    "plot2DSet(data_gauss_desc, data_gauss_label)\n",
    "\n",
    "print(\"Accuracy finale (train): \", perceptron1.accuracy(data_train, label_train))\n",
    "print(\"Accuracy finale (test) : \", perceptron1.accuracy(data_test, label_test))\n"
   ]
  },
  {
   "attachments": {},
   "cell_type": "markdown",
   "metadata": {},
   "source": [
    "### Variation du learning rate"
   ]
  },
  {
   "attachments": {},
   "cell_type": "markdown",
   "metadata": {},
   "source": [
    "## Expérimentation Perceptron Biais"
   ]
  },
  {
   "attachments": {},
   "cell_type": "markdown",
   "metadata": {},
   "source": [
    "# Dataset : data-5D.pkl"
   ]
  }
 ],
 "metadata": {
  "kernelspec": {
   "display_name": "Python 3",
   "language": "python",
   "name": "python3"
  },
  "language_info": {
   "codemirror_mode": {
    "name": "ipython",
    "version": 3
   },
   "file_extension": ".py",
   "mimetype": "text/x-python",
   "name": "python",
   "nbconvert_exporter": "python",
   "pygments_lexer": "ipython3",
   "version": "3.10.0"
  },
  "vscode": {
   "interpreter": {
    "hash": "9af53353804afc09f90d8f022eaec6e99fffff96cfdda280d845f608b681a8ce"
   }
  }
 },
 "nbformat": 4,
 "nbformat_minor": 1
}
